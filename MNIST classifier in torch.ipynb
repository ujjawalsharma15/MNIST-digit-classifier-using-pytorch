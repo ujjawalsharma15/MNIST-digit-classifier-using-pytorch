{
 "cells": [
  {
   "cell_type": "markdown",
   "metadata": {},
   "source": [
    "## MNIST digit classifier using CNN in torch"
   ]
  },
  {
   "cell_type": "code",
   "execution_count": 1,
   "metadata": {},
   "outputs": [],
   "source": [
    "#importing the required libraries\n",
    "\n",
    "import torch\n",
    "import torch.nn as nn\n",
    "import torch.optim as optim\n",
    "import torchvision\n",
    "from torchvision import datasets , transforms\n",
    "from torch.autograd import Variable\n",
    "from torch.utils.data import Dataset, DataLoader\n",
    "from torchvision import transforms, utils\n",
    "\n",
    "\n",
    "import matplotlib.pyplot as plt\n",
    "import numpy as np\n",
    "\n",
    "import warnings\n",
    "warnings.filterwarnings(\"ignore\")\n",
    "\n",
    "%matplotlib inline\n",
    "plt.ion()"
   ]
  },
  {
   "cell_type": "code",
   "execution_count": 2,
   "metadata": {},
   "outputs": [],
   "source": [
    "#loading the MNIST dataset from torch.MNIST class\n",
    "\n",
    "train_dataset = datasets.MNIST(root='./data/',\n",
    "                               train=True,\n",
    "                               transform=transforms.ToTensor(),\n",
    "                               download=False)\n",
    "test_dataset = datasets.MNIST(root='./data/',\n",
    "                              train=False,\n",
    "                              transform=transforms.ToTensor())"
   ]
  },
  {
   "cell_type": "code",
   "execution_count": 3,
   "metadata": {},
   "outputs": [
    {
     "name": "stdout",
     "output_type": "stream",
     "text": [
      "torch.Size([60000, 28, 28])\n",
      "torch.Size([60000])\n"
     ]
    }
   ],
   "source": [
    "#finding the size of the loaded data \n",
    "# 60000 -> number of images \n",
    "# 28*28 -> size of the images\n",
    "\n",
    "print(train_dataset.train_data.size())\n",
    "print(train_dataset.train_labels.size())"
   ]
  },
  {
   "cell_type": "code",
   "execution_count": 4,
   "metadata": {},
   "outputs": [
    {
     "name": "stdout",
     "output_type": "stream",
     "text": [
      "torch.Size([10000, 28, 28])\n",
      "torch.Size([10000])\n"
     ]
    }
   ],
   "source": [
    "#test_data has 10000 images\n",
    "print(test_dataset.test_data.size())\n",
    "print(test_dataset.test_labels.size())"
   ]
  },
  {
   "cell_type": "code",
   "execution_count": 5,
   "metadata": {},
   "outputs": [
    {
     "data": {
      "image/png": "[encoded data removed]",
      "text/plain": [
       "<matplotlib.figure.Figure at 0x7f64ad54e6a0>"
      ]
     },
     "metadata": {},
     "output_type": "display_data"
    }
   ],
   "source": [
    "# plotting random images from the dataset to get know about the type of images\n",
    "\n",
    "plt.imshow(train_dataset.train_data[0].numpy(),cmap='gray')\n",
    "plt.show()"
   ]
  },
  {
   "cell_type": "code",
   "execution_count": 6,
   "metadata": {},
   "outputs": [],
   "source": [
    "#loading the data into torch dataloader for training and testing\n",
    "train_loader = torch.utils.data.DataLoader(dataset=train_dataset, batch_size=32, shuffle=True)\n",
    "\n",
    "test_loader = torch.utils.data.DataLoader(dataset=test_dataset, batch_size=32, shuffle=False)"
   ]
  },
  {
   "cell_type": "code",
   "execution_count": 7,
   "metadata": {},
   "outputs": [],
   "source": [
    "#defining the structure of our model, used 3 convolutional layers , with 3 ReLU and two max pools \n",
    "\n",
    "class Arch(nn.Module):\n",
    "    \n",
    "    def __init__(self):\n",
    "        super(Arch,self).__init__()\n",
    "        self.seq_1 =  nn.Sequential(nn.Conv2d(1,8,kernel_size=3,padding=1),nn.ReLU())\n",
    "        self.seq_2 = nn.Sequential(nn.Conv2d(8,12,kernel_size=3,padding=1),nn.ReLU(),nn.MaxPool2d(2, stride=2))\n",
    "        self.seq_3 = nn.Sequential(nn.Conv2d(12,16,kernel_size=3,padding=1),nn.ReLU(),nn.MaxPool2d(2, stride=2))\n",
    "        self.fc = nn.Linear(16*7*7,10)\n",
    "    \n",
    "    def forward(self,x):\n",
    "        x = self.seq_1(x)\n",
    "        x = self.seq_2(x)\n",
    "        x = self.seq_3(x)\n",
    "        x = x.view(x.size(0), -1)\n",
    "        x = self.fc(x)\n",
    "        return nn.functional.log_softmax(x)        "
   ]
  },
  {
   "cell_type": "code",
   "execution_count": 8,
   "metadata": {},
   "outputs": [
    {
     "name": "stdout",
     "output_type": "stream",
     "text": [
      "Arch(\n",
      "  (seq_1): Sequential(\n",
      "    (0): Conv2d(1, 8, kernel_size=(3, 3), stride=(1, 1), padding=(1, 1))\n",
      "    (1): ReLU()\n",
      "  )\n",
      "  (seq_2): Sequential(\n",
      "    (0): Conv2d(8, 12, kernel_size=(3, 3), stride=(1, 1), padding=(1, 1))\n",
      "    (1): ReLU()\n",
      "    (2): MaxPool2d(kernel_size=2, stride=2, padding=0, dilation=1, ceil_mode=False)\n",
      "  )\n",
      "  (seq_3): Sequential(\n",
      "    (0): Conv2d(12, 16, kernel_size=(3, 3), stride=(1, 1), padding=(1, 1))\n",
      "    (1): ReLU()\n",
      "    (2): MaxPool2d(kernel_size=2, stride=2, padding=0, dilation=1, ceil_mode=False)\n",
      "  )\n",
      "  (fc): Linear(in_features=784, out_features=10, bias=True)\n",
      ")\n"
     ]
    }
   ],
   "source": [
    "#initializing our model\n",
    "cnn = Arch()\n",
    "print(cnn)\n",
    "#to see how our strategy of decreasing the learning rate with training works..  \n",
    "loss_list = []\n",
    "lr_list = []"
   ]
  },
  {
   "cell_type": "code",
   "execution_count": 9,
   "metadata": {},
   "outputs": [],
   "source": [
    "#defing our training function\n",
    "def train(epoch,lr,arch):\n",
    "    #optimizer used is SGD with momentum \n",
    "    optimizer = optim.SGD(cnn.parameters(),lr=lr,momentum=0.5,dampening=0.75)\n",
    "    arch.train()\n",
    "    \n",
    "    for i in range(epoch):\n",
    "        for batch_idx,(data,label) in enumerate(train_loader):\n",
    "            data,label = Variable(data),Variable(label)\n",
    "            optimizer.zero_grad()             #after one step reinitializing the gradients to zero\n",
    "            output = arch.forward(data)       #forward pass \n",
    "            loss = nn.functional.nll_loss(output,label)  #calculating the loss\n",
    "            loss.backward()                   \n",
    "            optimizer.step()                  #updating the parameters\n",
    "            if(batch_idx%30 == 0):\n",
    "                lr_list.append(lr)            \n",
    "                lr = lr/2.0\n",
    "                loss_list.append(loss)\n",
    "                print('Train Epoch: {} [{}/{} ({:.0f}%)]\\tLoss: {:.6f}'.format(i, batch_idx * len(data), len(train_loader.dataset),100. * batch_idx / len(train_loader), loss.data[0]))          "
   ]
  },
  {
   "cell_type": "code",
   "execution_count": 10,
   "metadata": {},
   "outputs": [
    {
     "name": "stdout",
     "output_type": "stream",
     "text": [
      "Train Epoch: 0 [0/60000 (0%)]\tLoss: 2.300476\n",
      "Train Epoch: 0 [960/60000 (2%)]\tLoss: 1.764290\n",
      "Train Epoch: 0 [1920/60000 (3%)]\tLoss: 0.103087\n",
      "Train Epoch: 0 [2880/60000 (5%)]\tLoss: 0.445618\n",
      "Train Epoch: 0 [3840/60000 (6%)]\tLoss: 0.466762\n",
      "Train Epoch: 0 [4800/60000 (8%)]\tLoss: 0.277915\n",
      "Train Epoch: 0 [5760/60000 (10%)]\tLoss: 0.172770\n",
      "Train Epoch: 0 [6720/60000 (11%)]\tLoss: 0.188242\n",
      "Train Epoch: 0 [7680/60000 (13%)]\tLoss: 0.046698\n",
      "Train Epoch: 0 [8640/60000 (14%)]\tLoss: 0.091033\n",
      "Train Epoch: 0 [9600/60000 (16%)]\tLoss: 0.257428\n",
      "Train Epoch: 0 [10560/60000 (18%)]\tLoss: 0.079127\n",
      "Train Epoch: 0 [11520/60000 (19%)]\tLoss: 0.091782\n",
      "Train Epoch: 0 [12480/60000 (21%)]\tLoss: 0.226366\n",
      "Train Epoch: 0 [13440/60000 (22%)]\tLoss: 0.103199\n",
      "Train Epoch: 0 [14400/60000 (24%)]\tLoss: 0.089952\n",
      "Train Epoch: 0 [15360/60000 (26%)]\tLoss: 0.025099\n",
      "Train Epoch: 0 [16320/60000 (27%)]\tLoss: 0.029311\n",
      "Train Epoch: 0 [17280/60000 (29%)]\tLoss: 0.246823\n",
      "Train Epoch: 0 [18240/60000 (30%)]\tLoss: 0.285644\n",
      "Train Epoch: 0 [19200/60000 (32%)]\tLoss: 0.348210\n",
      "Train Epoch: 0 [20160/60000 (34%)]\tLoss: 0.152986\n",
      "Train Epoch: 0 [21120/60000 (35%)]\tLoss: 0.037743\n",
      "Train Epoch: 0 [22080/60000 (37%)]\tLoss: 0.086162\n",
      "Train Epoch: 0 [23040/60000 (38%)]\tLoss: 0.172000\n",
      "Train Epoch: 0 [24000/60000 (40%)]\tLoss: 0.160117\n",
      "Train Epoch: 0 [24960/60000 (42%)]\tLoss: 0.231711\n",
      "Train Epoch: 0 [25920/60000 (43%)]\tLoss: 0.136166\n",
      "Train Epoch: 0 [26880/60000 (45%)]\tLoss: 0.095086\n",
      "Train Epoch: 0 [27840/60000 (46%)]\tLoss: 0.042745\n",
      "Train Epoch: 0 [28800/60000 (48%)]\tLoss: 0.146722\n",
      "Train Epoch: 0 [29760/60000 (50%)]\tLoss: 0.143425\n",
      "Train Epoch: 0 [30720/60000 (51%)]\tLoss: 0.255247\n",
      "Train Epoch: 0 [31680/60000 (53%)]\tLoss: 0.140800\n",
      "Train Epoch: 0 [32640/60000 (54%)]\tLoss: 0.154186\n",
      "Train Epoch: 0 [33600/60000 (56%)]\tLoss: 0.185621\n",
      "Train Epoch: 0 [34560/60000 (58%)]\tLoss: 0.005727\n",
      "Train Epoch: 0 [35520/60000 (59%)]\tLoss: 0.211540\n",
      "Train Epoch: 0 [36480/60000 (61%)]\tLoss: 0.097532\n",
      "Train Epoch: 0 [37440/60000 (62%)]\tLoss: 0.052581\n",
      "Train Epoch: 0 [38400/60000 (64%)]\tLoss: 0.101422\n",
      "Train Epoch: 0 [39360/60000 (66%)]\tLoss: 0.036912\n",
      "Train Epoch: 0 [40320/60000 (67%)]\tLoss: 0.153642\n",
      "Train Epoch: 0 [41280/60000 (69%)]\tLoss: 0.087825\n",
      "Train Epoch: 0 [42240/60000 (70%)]\tLoss: 0.015373\n",
      "Train Epoch: 0 [43200/60000 (72%)]\tLoss: 0.065247\n",
      "Train Epoch: 0 [44160/60000 (74%)]\tLoss: 0.042352\n",
      "Train Epoch: 0 [45120/60000 (75%)]\tLoss: 0.009997\n",
      "Train Epoch: 0 [46080/60000 (77%)]\tLoss: 0.076556\n",
      "Train Epoch: 0 [47040/60000 (78%)]\tLoss: 0.022311\n",
      "Train Epoch: 0 [48000/60000 (80%)]\tLoss: 0.264837\n",
      "Train Epoch: 0 [48960/60000 (82%)]\tLoss: 0.074817\n",
      "Train Epoch: 0 [49920/60000 (83%)]\tLoss: 0.010214\n",
      "Train Epoch: 0 [50880/60000 (85%)]\tLoss: 0.047293\n",
      "Train Epoch: 0 [51840/60000 (86%)]\tLoss: 0.057325\n",
      "Train Epoch: 0 [52800/60000 (88%)]\tLoss: 0.022254\n",
      "Train Epoch: 0 [53760/60000 (90%)]\tLoss: 0.015652\n",
      "Train Epoch: 0 [54720/60000 (91%)]\tLoss: 0.139571\n",
      "Train Epoch: 0 [55680/60000 (93%)]\tLoss: 0.013566\n",
      "Train Epoch: 0 [56640/60000 (94%)]\tLoss: 0.076922\n",
      "Train Epoch: 0 [57600/60000 (96%)]\tLoss: 0.137473\n",
      "Train Epoch: 0 [58560/60000 (98%)]\tLoss: 0.006741\n",
      "Train Epoch: 0 [59520/60000 (99%)]\tLoss: 0.023839\n",
      "Train Epoch: 1 [0/60000 (0%)]\tLoss: 0.285609\n",
      "Train Epoch: 1 [960/60000 (2%)]\tLoss: 0.050044\n",
      "Train Epoch: 1 [1920/60000 (3%)]\tLoss: 0.001852\n",
      "Train Epoch: 1 [2880/60000 (5%)]\tLoss: 0.015107\n",
      "Train Epoch: 1 [3840/60000 (6%)]\tLoss: 0.209175\n",
      "Train Epoch: 1 [4800/60000 (8%)]\tLoss: 0.096749\n",
      "Train Epoch: 1 [5760/60000 (10%)]\tLoss: 0.134809\n",
      "Train Epoch: 1 [6720/60000 (11%)]\tLoss: 0.006257\n",
      "Train Epoch: 1 [7680/60000 (13%)]\tLoss: 0.005635\n",
      "Train Epoch: 1 [8640/60000 (14%)]\tLoss: 0.053820\n",
      "Train Epoch: 1 [9600/60000 (16%)]\tLoss: 0.153804\n",
      "Train Epoch: 1 [10560/60000 (18%)]\tLoss: 0.135170\n",
      "Train Epoch: 1 [11520/60000 (19%)]\tLoss: 0.003912\n",
      "Train Epoch: 1 [12480/60000 (21%)]\tLoss: 0.068506\n",
      "Train Epoch: 1 [13440/60000 (22%)]\tLoss: 0.075347\n",
      "Train Epoch: 1 [14400/60000 (24%)]\tLoss: 0.009653\n",
      "Train Epoch: 1 [15360/60000 (26%)]\tLoss: 0.110741\n",
      "Train Epoch: 1 [16320/60000 (27%)]\tLoss: 0.038350\n",
      "Train Epoch: 1 [17280/60000 (29%)]\tLoss: 0.066500\n",
      "Train Epoch: 1 [18240/60000 (30%)]\tLoss: 0.057576\n",
      "Train Epoch: 1 [19200/60000 (32%)]\tLoss: 0.064597\n",
      "Train Epoch: 1 [20160/60000 (34%)]\tLoss: 0.000587\n",
      "Train Epoch: 1 [21120/60000 (35%)]\tLoss: 0.328133\n",
      "Train Epoch: 1 [22080/60000 (37%)]\tLoss: 0.004594\n",
      "Train Epoch: 1 [23040/60000 (38%)]\tLoss: 0.282138\n",
      "Train Epoch: 1 [24000/60000 (40%)]\tLoss: 0.015925\n",
      "Train Epoch: 1 [24960/60000 (42%)]\tLoss: 0.018561\n",
      "Train Epoch: 1 [25920/60000 (43%)]\tLoss: 0.020007\n",
      "Train Epoch: 1 [26880/60000 (45%)]\tLoss: 0.001713\n",
      "Train Epoch: 1 [27840/60000 (46%)]\tLoss: 0.007703\n",
      "Train Epoch: 1 [28800/60000 (48%)]\tLoss: 0.003559\n",
      "Train Epoch: 1 [29760/60000 (50%)]\tLoss: 0.063066\n",
      "Train Epoch: 1 [30720/60000 (51%)]\tLoss: 0.008523\n",
      "Train Epoch: 1 [31680/60000 (53%)]\tLoss: 0.081484\n",
      "Train Epoch: 1 [32640/60000 (54%)]\tLoss: 0.001433\n",
      "Train Epoch: 1 [33600/60000 (56%)]\tLoss: 0.022505\n",
      "Train Epoch: 1 [34560/60000 (58%)]\tLoss: 0.199411\n",
      "Train Epoch: 1 [35520/60000 (59%)]\tLoss: 0.011483\n",
      "Train Epoch: 1 [36480/60000 (61%)]\tLoss: 0.101824\n",
      "Train Epoch: 1 [37440/60000 (62%)]\tLoss: 0.124378\n",
      "Train Epoch: 1 [38400/60000 (64%)]\tLoss: 0.022181\n",
      "Train Epoch: 1 [39360/60000 (66%)]\tLoss: 0.008452\n",
      "Train Epoch: 1 [40320/60000 (67%)]\tLoss: 0.003470\n",
      "Train Epoch: 1 [41280/60000 (69%)]\tLoss: 0.004801\n",
      "Train Epoch: 1 [42240/60000 (70%)]\tLoss: 0.007002\n",
      "Train Epoch: 1 [43200/60000 (72%)]\tLoss: 0.006766\n",
      "Train Epoch: 1 [44160/60000 (74%)]\tLoss: 0.116482\n",
      "Train Epoch: 1 [45120/60000 (75%)]\tLoss: 0.018092\n",
      "Train Epoch: 1 [46080/60000 (77%)]\tLoss: 0.084995\n",
      "Train Epoch: 1 [47040/60000 (78%)]\tLoss: 0.001964\n",
      "Train Epoch: 1 [48000/60000 (80%)]\tLoss: 0.007371\n",
      "Train Epoch: 1 [48960/60000 (82%)]\tLoss: 0.075687\n",
      "Train Epoch: 1 [49920/60000 (83%)]\tLoss: 0.013054\n",
      "Train Epoch: 1 [50880/60000 (85%)]\tLoss: 0.473017\n",
      "Train Epoch: 1 [51840/60000 (86%)]\tLoss: 0.177598\n",
      "Train Epoch: 1 [52800/60000 (88%)]\tLoss: 0.040893\n",
      "Train Epoch: 1 [53760/60000 (90%)]\tLoss: 0.133782\n",
      "Train Epoch: 1 [54720/60000 (91%)]\tLoss: 0.141572\n",
      "Train Epoch: 1 [55680/60000 (93%)]\tLoss: 0.066210\n",
      "Train Epoch: 1 [56640/60000 (94%)]\tLoss: 0.174737\n",
      "Train Epoch: 1 [57600/60000 (96%)]\tLoss: 0.148726\n",
      "Train Epoch: 1 [58560/60000 (98%)]\tLoss: 0.101968\n",
      "Train Epoch: 1 [59520/60000 (99%)]\tLoss: 0.001737\n",
      "Train Epoch: 2 [0/60000 (0%)]\tLoss: 0.075144\n",
      "Train Epoch: 2 [960/60000 (2%)]\tLoss: 0.031893\n",
      "Train Epoch: 2 [1920/60000 (3%)]\tLoss: 0.154648\n",
      "Train Epoch: 2 [2880/60000 (5%)]\tLoss: 0.003588\n",
      "Train Epoch: 2 [3840/60000 (6%)]\tLoss: 0.004369\n",
      "Train Epoch: 2 [4800/60000 (8%)]\tLoss: 0.221044\n",
      "Train Epoch: 2 [5760/60000 (10%)]\tLoss: 0.052596\n",
      "Train Epoch: 2 [6720/60000 (11%)]\tLoss: 0.003282\n",
      "Train Epoch: 2 [7680/60000 (13%)]\tLoss: 0.017222\n",
      "Train Epoch: 2 [8640/60000 (14%)]\tLoss: 0.016261\n",
      "Train Epoch: 2 [9600/60000 (16%)]\tLoss: 0.121589\n",
      "Train Epoch: 2 [10560/60000 (18%)]\tLoss: 0.109742\n",
      "Train Epoch: 2 [11520/60000 (19%)]\tLoss: 0.112559\n",
      "Train Epoch: 2 [12480/60000 (21%)]\tLoss: 0.046196\n",
      "Train Epoch: 2 [13440/60000 (22%)]\tLoss: 0.001442\n",
      "Train Epoch: 2 [14400/60000 (24%)]\tLoss: 0.343551\n",
      "Train Epoch: 2 [15360/60000 (26%)]\tLoss: 0.017271\n",
      "Train Epoch: 2 [16320/60000 (27%)]\tLoss: 0.050793\n",
      "Train Epoch: 2 [17280/60000 (29%)]\tLoss: 0.103837\n",
      "Train Epoch: 2 [18240/60000 (30%)]\tLoss: 0.090433\n",
      "Train Epoch: 2 [19200/60000 (32%)]\tLoss: 0.057920\n",
      "Train Epoch: 2 [20160/60000 (34%)]\tLoss: 0.001304\n",
      "Train Epoch: 2 [21120/60000 (35%)]\tLoss: 0.004665\n",
      "Train Epoch: 2 [22080/60000 (37%)]\tLoss: 0.000704\n",
      "Train Epoch: 2 [23040/60000 (38%)]\tLoss: 0.068080\n",
      "Train Epoch: 2 [24000/60000 (40%)]\tLoss: 0.069542\n",
      "Train Epoch: 2 [24960/60000 (42%)]\tLoss: 0.138820\n",
      "Train Epoch: 2 [25920/60000 (43%)]\tLoss: 0.015459\n",
      "Train Epoch: 2 [26880/60000 (45%)]\tLoss: 0.039079\n",
      "Train Epoch: 2 [27840/60000 (46%)]\tLoss: 0.002859\n",
      "Train Epoch: 2 [28800/60000 (48%)]\tLoss: 0.010750\n",
      "Train Epoch: 2 [29760/60000 (50%)]\tLoss: 0.004953\n",
      "Train Epoch: 2 [30720/60000 (51%)]\tLoss: 0.020392\n",
      "Train Epoch: 2 [31680/60000 (53%)]\tLoss: 0.004576\n",
      "Train Epoch: 2 [32640/60000 (54%)]\tLoss: 0.047593\n",
      "Train Epoch: 2 [33600/60000 (56%)]\tLoss: 0.083233\n",
      "Train Epoch: 2 [34560/60000 (58%)]\tLoss: 0.024955\n",
      "Train Epoch: 2 [35520/60000 (59%)]\tLoss: 0.073862\n",
      "Train Epoch: 2 [36480/60000 (61%)]\tLoss: 0.076192\n",
      "Train Epoch: 2 [37440/60000 (62%)]\tLoss: 0.005926\n"
     ]
    },
    {
     "name": "stdout",
     "output_type": "stream",
     "text": [
      "Train Epoch: 2 [38400/60000 (64%)]\tLoss: 0.008462\n",
      "Train Epoch: 2 [39360/60000 (66%)]\tLoss: 0.007019\n",
      "Train Epoch: 2 [40320/60000 (67%)]\tLoss: 0.004832\n",
      "Train Epoch: 2 [41280/60000 (69%)]\tLoss: 0.001490\n",
      "Train Epoch: 2 [42240/60000 (70%)]\tLoss: 0.083694\n",
      "Train Epoch: 2 [43200/60000 (72%)]\tLoss: 0.051694\n",
      "Train Epoch: 2 [44160/60000 (74%)]\tLoss: 0.065394\n",
      "Train Epoch: 2 [45120/60000 (75%)]\tLoss: 0.034876\n",
      "Train Epoch: 2 [46080/60000 (77%)]\tLoss: 0.229529\n",
      "Train Epoch: 2 [47040/60000 (78%)]\tLoss: 0.004914\n",
      "Train Epoch: 2 [48000/60000 (80%)]\tLoss: 0.037459\n",
      "Train Epoch: 2 [48960/60000 (82%)]\tLoss: 0.015111\n",
      "Train Epoch: 2 [49920/60000 (83%)]\tLoss: 0.007198\n",
      "Train Epoch: 2 [50880/60000 (85%)]\tLoss: 0.025517\n",
      "Train Epoch: 2 [51840/60000 (86%)]\tLoss: 0.117649\n",
      "Train Epoch: 2 [52800/60000 (88%)]\tLoss: 0.018628\n",
      "Train Epoch: 2 [53760/60000 (90%)]\tLoss: 0.001531\n",
      "Train Epoch: 2 [54720/60000 (91%)]\tLoss: 0.009859\n",
      "Train Epoch: 2 [55680/60000 (93%)]\tLoss: 0.000747\n",
      "Train Epoch: 2 [56640/60000 (94%)]\tLoss: 0.014148\n",
      "Train Epoch: 2 [57600/60000 (96%)]\tLoss: 0.007758\n",
      "Train Epoch: 2 [58560/60000 (98%)]\tLoss: 0.000329\n",
      "Train Epoch: 2 [59520/60000 (99%)]\tLoss: 0.009865\n",
      "Train Epoch: 3 [0/60000 (0%)]\tLoss: 0.038981\n",
      "Train Epoch: 3 [960/60000 (2%)]\tLoss: 0.003681\n",
      "Train Epoch: 3 [1920/60000 (3%)]\tLoss: 0.002450\n",
      "Train Epoch: 3 [2880/60000 (5%)]\tLoss: 0.015577\n",
      "Train Epoch: 3 [3840/60000 (6%)]\tLoss: 0.002504\n",
      "Train Epoch: 3 [4800/60000 (8%)]\tLoss: 0.003175\n",
      "Train Epoch: 3 [5760/60000 (10%)]\tLoss: 0.171947\n",
      "Train Epoch: 3 [6720/60000 (11%)]\tLoss: 0.005934\n",
      "Train Epoch: 3 [7680/60000 (13%)]\tLoss: 0.001390\n",
      "Train Epoch: 3 [8640/60000 (14%)]\tLoss: 0.004317\n",
      "Train Epoch: 3 [9600/60000 (16%)]\tLoss: 0.000902\n",
      "Train Epoch: 3 [10560/60000 (18%)]\tLoss: 0.002908\n",
      "Train Epoch: 3 [11520/60000 (19%)]\tLoss: 0.046224\n",
      "Train Epoch: 3 [12480/60000 (21%)]\tLoss: 0.021250\n",
      "Train Epoch: 3 [13440/60000 (22%)]\tLoss: 0.029493\n",
      "Train Epoch: 3 [14400/60000 (24%)]\tLoss: 0.009990\n",
      "Train Epoch: 3 [15360/60000 (26%)]\tLoss: 0.056485\n",
      "Train Epoch: 3 [16320/60000 (27%)]\tLoss: 0.001455\n",
      "Train Epoch: 3 [17280/60000 (29%)]\tLoss: 0.416101\n",
      "Train Epoch: 3 [18240/60000 (30%)]\tLoss: 0.002676\n",
      "Train Epoch: 3 [19200/60000 (32%)]\tLoss: 0.000490\n",
      "Train Epoch: 3 [20160/60000 (34%)]\tLoss: 0.003835\n",
      "Train Epoch: 3 [21120/60000 (35%)]\tLoss: 0.006864\n",
      "Train Epoch: 3 [22080/60000 (37%)]\tLoss: 0.036837\n",
      "Train Epoch: 3 [23040/60000 (38%)]\tLoss: 0.034931\n",
      "Train Epoch: 3 [24000/60000 (40%)]\tLoss: 0.002447\n",
      "Train Epoch: 3 [24960/60000 (42%)]\tLoss: 0.000117\n",
      "Train Epoch: 3 [25920/60000 (43%)]\tLoss: 0.003860\n",
      "Train Epoch: 3 [26880/60000 (45%)]\tLoss: 0.015056\n",
      "Train Epoch: 3 [27840/60000 (46%)]\tLoss: 0.048345\n",
      "Train Epoch: 3 [28800/60000 (48%)]\tLoss: 0.000862\n",
      "Train Epoch: 3 [29760/60000 (50%)]\tLoss: 0.001029\n",
      "Train Epoch: 3 [30720/60000 (51%)]\tLoss: 0.409685\n",
      "Train Epoch: 3 [31680/60000 (53%)]\tLoss: 0.039978\n",
      "Train Epoch: 3 [32640/60000 (54%)]\tLoss: 0.000503\n",
      "Train Epoch: 3 [33600/60000 (56%)]\tLoss: 0.012680\n",
      "Train Epoch: 3 [34560/60000 (58%)]\tLoss: 0.003054\n",
      "Train Epoch: 3 [35520/60000 (59%)]\tLoss: 0.001441\n",
      "Train Epoch: 3 [36480/60000 (61%)]\tLoss: 0.010611\n",
      "Train Epoch: 3 [37440/60000 (62%)]\tLoss: 0.007675\n",
      "Train Epoch: 3 [38400/60000 (64%)]\tLoss: 0.031825\n",
      "Train Epoch: 3 [39360/60000 (66%)]\tLoss: 0.001748\n",
      "Train Epoch: 3 [40320/60000 (67%)]\tLoss: 0.001672\n",
      "Train Epoch: 3 [41280/60000 (69%)]\tLoss: 0.006502\n",
      "Train Epoch: 3 [42240/60000 (70%)]\tLoss: 0.080272\n",
      "Train Epoch: 3 [43200/60000 (72%)]\tLoss: 0.192489\n",
      "Train Epoch: 3 [44160/60000 (74%)]\tLoss: 0.025733\n",
      "Train Epoch: 3 [45120/60000 (75%)]\tLoss: 0.004255\n",
      "Train Epoch: 3 [46080/60000 (77%)]\tLoss: 0.103858\n",
      "Train Epoch: 3 [47040/60000 (78%)]\tLoss: 0.095913\n",
      "Train Epoch: 3 [48000/60000 (80%)]\tLoss: 0.047807\n",
      "Train Epoch: 3 [48960/60000 (82%)]\tLoss: 0.051629\n",
      "Train Epoch: 3 [49920/60000 (83%)]\tLoss: 0.115905\n",
      "Train Epoch: 3 [50880/60000 (85%)]\tLoss: 0.009953\n",
      "Train Epoch: 3 [51840/60000 (86%)]\tLoss: 0.028912\n",
      "Train Epoch: 3 [52800/60000 (88%)]\tLoss: 0.009210\n",
      "Train Epoch: 3 [53760/60000 (90%)]\tLoss: 0.005367\n",
      "Train Epoch: 3 [54720/60000 (91%)]\tLoss: 0.090283\n",
      "Train Epoch: 3 [55680/60000 (93%)]\tLoss: 0.010485\n",
      "Train Epoch: 3 [56640/60000 (94%)]\tLoss: 0.003275\n",
      "Train Epoch: 3 [57600/60000 (96%)]\tLoss: 0.015680\n",
      "Train Epoch: 3 [58560/60000 (98%)]\tLoss: 0.010856\n",
      "Train Epoch: 3 [59520/60000 (99%)]\tLoss: 0.000409\n"
     ]
    }
   ],
   "source": [
    "#training our model\n",
    "train(4,0.5,cnn)"
   ]
  },
  {
   "cell_type": "code",
   "execution_count": 15,
   "metadata": {},
   "outputs": [
    {
     "data": {
      "image/png": "[encoded data removed]",
      "text/plain": [
       "<matplotlib.figure.Figure at 0x7f643d2aca58>"
      ]
     },
     "metadata": {},
     "output_type": "display_data"
    }
   ],
   "source": [
    "#plotting the curve relation how our loss drops , at the end the spikes may be due to accumulated momentum\n",
    "plt.plot(lr_list,loss_list)\n",
    "plt.show()"
   ]
  },
  {
   "cell_type": "code",
   "execution_count": 13,
   "metadata": {},
   "outputs": [],
   "source": [
    "#defining the test function of our model\n",
    "def test(arch):\n",
    "    arch.eval()\n",
    "    test_loss = 0\n",
    "    accurate_pred = 0\n",
    "    for data, target in test_loader:\n",
    "        data, target = Variable(data, volatile=True), Variable(target)\n",
    "        output = arch.forward(data)  #forward pass for test set\n",
    "        # sum up batch loss\n",
    "        test_loss += nn.functional.nll_loss(output, target, size_average=False).data[0]\n",
    "        # get the index of the max log-probability\n",
    "        pred = output.data.max(1, keepdim=True)[1]\n",
    "        accurate_pred += pred.eq(target.data.view_as(pred)).cpu().sum()\n",
    "\n",
    "    test_loss /= len(test_loader.dataset)\n",
    "    print('\\nTest set: Average loss: {:.4f}, Accuracy: {}/{} ({:.0f}%)\\n'.format(\n",
    "        test_loss, accurate_pred, len(test_loader.dataset),\n",
    "        100. * accurate_pred / len(test_loader.dataset)))\n"
   ]
  },
  {
   "cell_type": "code",
   "execution_count": 14,
   "metadata": {},
   "outputs": [
    {
     "name": "stdout",
     "output_type": "stream",
     "text": [
      "\n",
      "Test set: Average loss: 0.0357, Accuracy: 9888/10000 (98%)\n",
      "\n"
     ]
    }
   ],
   "source": [
    "#printing the accuracy and loss of test set and also the number of classes classified correctly by the model\n",
    "test(cnn)"
   ]
  }
 ],
 "metadata": {
  "kernelspec": {
   "display_name": "Python 3",
   "language": "python",
   "name": "python3"
  },
  "language_info": {
   "codemirror_mode": {
    "name": "ipython",
    "version": 3
   },
   "file_extension": ".py",
   "mimetype": "text/x-python",
   "name": "python",
   "nbconvert_exporter": "python",
   "pygments_lexer": "ipython3",
   "version": "3.6.4"
  }
 },
 "nbformat": 4,
 "nbformat_minor": 2
}
